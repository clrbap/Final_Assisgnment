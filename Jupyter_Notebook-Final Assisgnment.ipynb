{
 "cells": [
  {
   "cell_type": "markdown",
   "metadata": {},
   "source": [
    "<center>\n",
    "    <img src=\"https://cf-courses-data.s3.us.cloud-object-storage.appdomain.cloud/IBMDeveloperSkillsNetwork-DS0105EN-SkillsNetwork/labs/Module2/images/SN_web_lightmode.png\" width=\"300\" alt=\"cognitiveclass.ai logo\">\n",
    "</center>\n"
   ]
  },
  {
   "cell_type": "markdown",
   "metadata": {},
   "source": [
    "#### Add your code below following the instructions given in the course\n"
   ]
  },
  {
   "cell_type": "markdown",
   "metadata": {},
   "source": [
    "<H1> \n",
    "    Final Assisgnment - Create and Share Your Jupyter Notebook\n",
    "</H1>"
   ]
  },
  {
   "cell_type": "markdown",
   "metadata": {},
   "source": [
    "<H2>\n",
    "    Introduction Of Tools Of Data Science\n",
    "</H2>"
   ]
  },
  {
   "cell_type": "markdown",
   "metadata": {},
   "source": [
    "<H3> \n",
    "    Data Science Languages\n",
    "</H3>"
   ]
  },
  {
   "cell_type": "code",
   "execution_count": 2,
   "metadata": {
    "tags": []
   },
   "outputs": [
    {
     "name": "stdout",
     "output_type": "stream",
     "text": [
      "['C', 'Julia', 'Python', 'R', 'Scala']\n"
     ]
    }
   ],
   "source": [
    "languages = ['R','Python','Julia','Scala','C']\n",
    "languages.sort()\n",
    "print(languages)"
   ]
  },
  {
   "cell_type": "markdown",
   "metadata": {},
   "source": [
    "<H3>\n",
    "    Data Science Libraries\n",
    "</H3>"
   ]
  },
  {
   "cell_type": "code",
   "execution_count": 11,
   "metadata": {},
   "outputs": [
    {
     "name": "stdout",
     "output_type": "stream",
     "text": [
      "['Caret', 'Matplotlib', 'NumPy', 'Pandas']\n"
     ]
    }
   ],
   "source": [
    "libraries = ['Matplotlib','NumPy','Pandas','Caret']\n",
    "libraries.sort()\n",
    "print(libraries)"
   ]
  },
  {
   "cell_type": "markdown",
   "metadata": {},
   "source": [
    "<H3>\n",
    "    Data Science Tools\n",
    "</H3>"
   ]
  },
  {
   "cell_type": "code",
   "execution_count": 22,
   "metadata": {},
   "outputs": [
    {
     "name": "stdout",
     "output_type": "stream",
     "text": [
      "   Data Science Tools\n",
      "0    Jupyter Notebook\n",
      "1             RStudio\n",
      "2  Visual Studio Code\n"
     ]
    }
   ],
   "source": [
    "tabela = {\"Data Science Tools\":\n",
    "          [\"Jupyter Notebook\",\"RStudio\",\"Visual Studio Code\"]\n",
    "         }\n",
    "df = pd.DataFrame(tabela)\n",
    "\n",
    "print(df)"
   ]
  },
  {
   "cell_type": "markdown",
   "metadata": {},
   "source": [
    "<H3>\n",
    "    Arithmetic Expression Examples\n",
    "</H3>"
   ]
  },
  {
   "cell_type": "code",
   "execution_count": 19,
   "metadata": {
    "tags": []
   },
   "outputs": [
    {
     "name": "stdout",
     "output_type": "stream",
     "text": [
      "Sum: 3\n",
      "Multiplication: 12\n",
      "Division: 2.0\n",
      "Multiplication and Division: 25.0\n"
     ]
    }
   ],
   "source": [
    "Sum = 1 + 2\n",
    "Mult = 3 * 4\n",
    "Div = 4 / 2\n",
    "Mult_Div = (5 * 10) / 2\n",
    "\n",
    "print(\"Sum:\", Sum)\n",
    "print(\"Multiplication:\", Mult)\n",
    "print(\"Division:\", Div)\n",
    "print(\"Multiplication and Division:\", Mult_Div)"
   ]
  },
  {
   "cell_type": "markdown",
   "metadata": {},
   "source": [
    "<H3>\n",
    "    Cell to Multiply and Add Numbers\n",
    "</H3>"
   ]
  },
  {
   "cell_type": "code",
   "execution_count": 23,
   "metadata": {
    "tags": []
   },
   "outputs": [
    {
     "name": "stdout",
     "output_type": "stream",
     "text": [
      "Multiplication and Sum: 52\n"
     ]
    }
   ],
   "source": [
    "Mult_Sum = (5 * 10) + 2\n",
    "\n",
    "print(\"Multiplication and Sum:\", Mult_Sum)"
   ]
  },
  {
   "cell_type": "markdown",
   "metadata": {},
   "source": [
    "<H3>\n",
    "    Converting Minutes to Hours\n",
    "</H3>"
   ]
  },
  {
   "cell_type": "code",
   "execution_count": 22,
   "metadata": {
    "tags": []
   },
   "outputs": [
    {
     "data": {
      "text/plain": [
       "3.5"
      ]
     },
     "execution_count": 22,
     "metadata": {},
     "output_type": "execute_result"
    }
   ],
   "source": [
    "(210/60)\n"
   ]
  },
  {
   "cell_type": "markdown",
   "metadata": {},
   "source": [
    "<H3>\n",
    "    Objectives\n",
    "</H3>"
   ]
  },
  {
   "cell_type": "markdown",
   "metadata": {},
   "source": [
    "<H3>\n",
    "    Author\n",
    "</H3>\n",
    "Cláudio Rogério Baptista"
   ]
  }
 ],
 "metadata": {
  "kernelspec": {
   "display_name": "Python",
   "language": "python",
   "name": "conda-env-python-py"
  },
  "language_info": {
   "codemirror_mode": {
    "name": "ipython",
    "version": 3
   },
   "file_extension": ".py",
   "mimetype": "text/x-python",
   "name": "python",
   "nbconvert_exporter": "python",
   "pygments_lexer": "ipython3",
   "version": "3.7.12"
  }
 },
 "nbformat": 4,
 "nbformat_minor": 4
}
